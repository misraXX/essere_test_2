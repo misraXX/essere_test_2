{
 "cells": [
  {
   "cell_type": "code",
   "execution_count": 10,
   "id": "6aefde53",
   "metadata": {},
   "outputs": [
    {
     "name": "stdout",
     "output_type": "stream",
     "text": [
      "ボップアップは出現しませんでした\n"
     ]
    }
   ],
   "source": [
    "import json\n",
    "from linebot import LineBotApi\n",
    "from linebot.models import TextSendMessage\n",
    "\n",
    "file = open('info.json','r')\n",
    "info = json.load(file)\n",
    "\n",
    "CHANNEL_ACCESS_TOKEN = info['CHANNEL_ACCESS_TOKEN']\n",
    "line_bot_api = LineBotApi(CHANNEL_ACCESS_TOKEN)\n",
    "USER_ID = info['USER_ID']\n",
    "\n",
    "\n",
    "from selenium import webdriver\n",
    "import chromedriver_binary\n",
    "from selenium.webdriver.common.by import By\n",
    "from selenium.webdriver.support.ui import WebDriverWait\n",
    "from selenium.webdriver.support import expected_conditions as EC\n",
    "import time  \n",
    "    \n",
    "if __name__ == \"__main__\":\n",
    "    options = webdriver.ChromeOptions()\n",
    "    options.add_argument('--disable-blink-features=AutomationControlled')\n",
    "    driver = webdriver.Chrome(options=options)\n",
    "    driver.execute_script(\"Object.defineProperty(navigator, 'webdriver', {get: () => undefined})\")\n",
    "    driver.get('https://secure.louisvuitton.com/jpn-jp/mylv/overview')\n",
    "    driver.maximize_window()\n",
    "    time.sleep(5)\n",
    "    email = \"cymilkga12@gmail.com\"\n",
    "    password = \"Mis01aki10ra**\"\n",
    "    #メアド、パス入力、ログインボタン押下\n",
    "    driver.find_element(By.CSS_SELECTOR,'#loginloginForm').send_keys(email)\n",
    "    driver.find_element(By.CSS_SELECTOR,'#passwordloginForm').send_keys(password)\n",
    "    driver.find_element(By.CSS_SELECTOR,'#loginSubmit_').click()\n",
    "    #ほしい商品の入荷状況を確認\n",
    "    url = \"https://jp.louisvuitton.com/jpn-jp/products/neverfull-mm-monogram-empreinte-nvprod2790031v/M46135\"\n",
    "    driver.get(url)\n",
    "    #指定した要素がクリックできる状態になるまで待機\n",
    "    time.sleep(5)\n",
    "    #不要なボップアップが出現することがあるのでそれを閉じる\n",
    "\n",
    "    try:\n",
    "        driver.find_elementdriver.find_element(By.CSS_SELECTOR,'.lv-modal__contents > button').click()\n",
    "    except Exception:\n",
    "        print('ボップアップは出現しませんでした')\n",
    "\n",
    "    driver.find_element(By.CSS_SELECTOR,'.lv-product-purchase > button').click()\n",
    "\n",
    "    time.sleep(3)\n",
    "    try:\n",
    "        driver.find_element(By.CSS_SELECTOR,'.line-app-container > img').click()\n",
    "        print('入荷されていません')\n",
    "    except Exception:\n",
    "        messages= TextSendMessage(text='商品が入荷しました。\\n https://jp.louisvuitton.com/jpn-jp/products/carryall-pm-monogram-nvprod3770016v/M46203')\n",
    "        line_bot_api.push_message(USER_ID, messages=messages)   "
   ]
  },
  {
   "cell_type": "code",
   "execution_count": 11,
   "id": "c0d6d897",
   "metadata": {},
   "outputs": [
    {
     "name": "stdout",
     "output_type": "stream",
     "text": [
      "ボップアップは出現しませんでした\n"
     ]
    }
   ],
   "source": [
    "    \n",
    "if __name__ == \"__main__\":\n",
    "    options = webdriver.ChromeOptions()\n",
    "    options.add_argument('--disable-blink-features=AutomationControlled')\n",
    "    driver = webdriver.Chrome(options=options)\n",
    "    driver.execute_script(\"Object.defineProperty(navigator, 'webdriver', {get: () => undefined})\")\n",
    "    driver.get('https://secure.louisvuitton.com/jpn-jp/mylv/overview')\n",
    "    driver.maximize_window()\n",
    "    time.sleep(5)\n",
    "    email = \"cymilkga12@gmail.com\"\n",
    "    password = \"Mis01aki10ra**\"\n",
    "    #メアド、パス入力、ログインボタン押下\n",
    "    driver.find_element(By.CSS_SELECTOR,'#loginloginForm').send_keys(email)\n",
    "    driver.find_element(By.CSS_SELECTOR,'#passwordloginForm').send_keys(password)\n",
    "    driver.find_element(By.CSS_SELECTOR,'#loginSubmit_').click()\n",
    "    #ほしい商品の入荷状況を確認\n",
    "    url = \"https://jp.louisvuitton.com/jpn-jp/products/neverfull-mm-monogram-empreinte-nvprod2790031v/M46135\"\n",
    "    driver.get(url)\n",
    "    #指定した要素がクリックできる状態になるまで待機\n",
    "    time.sleep(5)\n",
    "    #不要なボップアップが出現することがあるのでそれを閉じる\n",
    "\n",
    "    try:\n",
    "        driver.find_elementdriver.find_element(By.CSS_SELECTOR,'.lv-modal__contents > button').click()\n",
    "    except Exception:\n",
    "        print('ボップアップは出現しませんでした')\n",
    "\n",
    "    driver.find_element(By.CSS_SELECTOR,'.lv-product-purchase > button').click()\n",
    "\n",
    "    time.sleep(3)\n",
    "    try:\n",
    "        driver.find_element(By.CSS_SELECTOR,'.line-app-container > img').click()\n",
    "        print('入荷されていません')\n",
    "    except Exception:\n",
    "        messages= TextSendMessage(text='商品が入荷しました。\\n https://jp.louisvuitton.com/jpn-jp/products/carryall-pm-monogram-nvprod3770016v/M46203')\n",
    "        line_bot_api.push_message(USER_ID, messages=messages)   "
   ]
  }
 ],
 "metadata": {
  "kernelspec": {
   "display_name": "Python 3",
   "language": "python",
   "name": "python3"
  },
  "language_info": {
   "codemirror_mode": {
    "name": "ipython",
    "version": 3
   },
   "file_extension": ".py",
   "mimetype": "text/x-python",
   "name": "python",
   "nbconvert_exporter": "python",
   "pygments_lexer": "ipython3",
   "version": "3.8.8"
  }
 },
 "nbformat": 4,
 "nbformat_minor": 5
}
