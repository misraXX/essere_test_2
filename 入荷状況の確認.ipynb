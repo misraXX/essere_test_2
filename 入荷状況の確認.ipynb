{
 "cells": [
  {
   "cell_type": "code",
   "execution_count": 1,
   "id": "6954681c",
   "metadata": {},
   "outputs": [],
   "source": [
    "import json\n",
    "from linebot import LineBotApi\n",
    "from linebot.models import TextSendMessage\n",
    "\n",
    "file = open('info.json','r')\n",
    "info = json.load(file)\n",
    "\n",
    "CHANNEL_ACCESS_TOKEN = info['CHANNEL_ACCESS_TOKEN']\n",
    "line_bot_api = LineBotApi(CHANNEL_ACCESS_TOKEN)\n",
    "\n",
    "from selenium import webdriver\n",
    "import chromedriver_binary\n",
    "from selenium.webdriver.common.by import By\n",
    "from selenium.webdriver.support.ui import WebDriverWait\n",
    "from selenium.webdriver.support import expected_conditions as EC\n",
    "import time\n",
    " \n",
    "USER_ID = info['USER_ID']\n"
   ]
  },
  {
   "cell_type": "code",
   "execution_count": 2,
   "id": "87783edb",
   "metadata": {},
   "outputs": [],
   "source": [
    "options = webdriver.ChromeOptions()"
   ]
  },
  {
   "cell_type": "code",
   "execution_count": 3,
   "id": "c211a8dd",
   "metadata": {},
   "outputs": [],
   "source": [
    "options.add_argument('--disable-blink-features=AutomationControlled')"
   ]
  },
  {
   "cell_type": "code",
   "execution_count": 4,
   "id": "6eb1660d",
   "metadata": {},
   "outputs": [],
   "source": [
    "driver = webdriver.Chrome(options=options)\n",
    "driver.execute_script(\"Object.defineProperty(navigator, 'webdriver', {get: () => undefined})\")\n"
   ]
  },
  {
   "cell_type": "code",
   "execution_count": 5,
   "id": "30eac7f3",
   "metadata": {},
   "outputs": [],
   "source": [
    "driver.get('https://secure.louisvuitton.com/jpn-jp/mylv/overview')\n",
    "driver.maximize_window()\n",
    "time.sleep(5)\n",
    "\n",
    "#'https://jp.louisvuitton.com/jpn-jp/products/carryall-pm-monogram-nvprod3770016v/M46203'\n",
    "\n",
    "#ログインページURLを取得\n",
    "#login_btn = driver.find_element(By.CSS_SELECTOR,'.lv-product-purchase-button')\n",
    "#login_href = login_btn.get_attribute('href')\n",
    "#print(login_href)"
   ]
  },
  {
   "cell_type": "code",
   "execution_count": 6,
   "id": "f9d2be84",
   "metadata": {},
   "outputs": [],
   "source": [
    "#ログインページへ行く\n",
    "#driver.get(login_href)"
   ]
  },
  {
   "cell_type": "code",
   "execution_count": 7,
   "id": "e505fafe",
   "metadata": {},
   "outputs": [],
   "source": [
    "email = \"cymilkga12@gmail.com\"\n",
    "password = \"Mis01aki10ra**\""
   ]
  },
  {
   "cell_type": "code",
   "execution_count": 8,
   "id": "cf21e346",
   "metadata": {},
   "outputs": [],
   "source": [
    "#driver.find_element(By.CSS_SELECTOR,'.lv-product-purchase > button').click()"
   ]
  },
  {
   "cell_type": "code",
   "execution_count": 9,
   "id": "5ce08c4b",
   "metadata": {},
   "outputs": [],
   "source": [
    "#driver.find_element(By.CSS_SELECTOR,'#continue').click()"
   ]
  },
  {
   "cell_type": "code",
   "execution_count": 10,
   "id": "1961337f",
   "metadata": {
    "scrolled": true
   },
   "outputs": [],
   "source": [
    "#メアド、パス入力、ログインボタン押下\n",
    "driver.find_element(By.CSS_SELECTOR,'#loginloginForm').send_keys(email)\n",
    "driver.find_element(By.CSS_SELECTOR,'#passwordloginForm').send_keys(password)\n",
    "driver.find_element(By.CSS_SELECTOR,'#loginSubmit_').click()"
   ]
  },
  {
   "cell_type": "code",
   "execution_count": 11,
   "id": "d48db117",
   "metadata": {},
   "outputs": [],
   "source": [
    "#ほしい商品の入荷状況を確認\n",
    "url = \"https://jp.louisvuitton.com/jpn-jp/products/neverfull-mm-monogram-empreinte-nvprod2790031v/M46135\"\n",
    "driver.get(url)\n",
    "time.sleep(5)"
   ]
  },
  {
   "cell_type": "code",
   "execution_count": 12,
   "id": "1f97c514",
   "metadata": {
    "scrolled": true
   },
   "outputs": [
    {
     "name": "stdout",
     "output_type": "stream",
     "text": [
      "ボップアップは出現しませんでした\n"
     ]
    }
   ],
   "source": [
    "#指定した要素がクリックできる状態になるまで待機\n",
    "#不要なボップアップが出現することがあるのでそれを閉じる\n",
    "time.sleep(5)\n",
    "try:\n",
    "    driver.find_elementdriver.find_element(By.CSS_SELECTOR,'.lv-modal__contents > button').click()\n",
    "except Exception:\n",
    "    print('ボップアップは出現しませんでした')"
   ]
  },
  {
   "cell_type": "code",
   "execution_count": 13,
   "id": "337087b2",
   "metadata": {},
   "outputs": [],
   "source": [
    "#\n",
    "driver.find_element(By.CSS_SELECTOR,'.lv-product-purchase > button').click()"
   ]
  },
  {
   "cell_type": "code",
   "execution_count": 14,
   "id": "0b9cda49",
   "metadata": {},
   "outputs": [],
   "source": [
    "time.sleep(3)\n",
    "try:\n",
    "    driver.find_element(By.CSS_SELECTOR,'.line-app-container > img').click()\n",
    "    print('入荷されていません')\n",
    "except Exception:\n",
    "    messages= TextSendMessage(text='商品が入荷しました。\\n https://jp.louisvuitton.com/jpn-jp/products/carryall-pm-monogram-nvprod3770016v/M46203')\n",
    "    line_bot_api.push_message(USER_ID, messages=messages)    \n",
    "\n"
   ]
  },
  {
   "cell_type": "code",
   "execution_count": null,
   "id": "2a19f8ac",
   "metadata": {},
   "outputs": [],
   "source": [
    "\n"
   ]
  },
  {
   "cell_type": "code",
   "execution_count": null,
   "id": "a105ce98",
   "metadata": {},
   "outputs": [],
   "source": []
  }
 ],
 "metadata": {
  "kernelspec": {
   "display_name": "Python 3",
   "language": "python",
   "name": "python3"
  },
  "language_info": {
   "codemirror_mode": {
    "name": "ipython",
    "version": 3
   },
   "file_extension": ".py",
   "mimetype": "text/x-python",
   "name": "python",
   "nbconvert_exporter": "python",
   "pygments_lexer": "ipython3",
   "version": "3.8.8"
  }
 },
 "nbformat": 4,
 "nbformat_minor": 5
}
