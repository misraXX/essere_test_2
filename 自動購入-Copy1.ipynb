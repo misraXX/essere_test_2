{
 "cells": [
  {
   "cell_type": "code",
   "execution_count": 1,
   "id": "6954681c",
   "metadata": {},
   "outputs": [],
   "source": [
    "from selenium import webdriver\n",
    "import chromedriver_binary\n",
    "from selenium.webdriver.common.by import By"
   ]
  },
  {
   "cell_type": "code",
   "execution_count": 2,
   "id": "87783edb",
   "metadata": {},
   "outputs": [],
   "source": [
    "options = webdriver.ChromeOptions()"
   ]
  },
  {
   "cell_type": "code",
   "execution_count": 3,
   "id": "c211a8dd",
   "metadata": {},
   "outputs": [],
   "source": [
    "options.add_argument('--disable-blink-features=AutomationControlled')"
   ]
  },
  {
   "cell_type": "code",
   "execution_count": 4,
   "id": "6eb1660d",
   "metadata": {},
   "outputs": [],
   "source": [
    "driver = webdriver.Chrome(options=options)\n",
    "driver.execute_script(\"Object.defineProperty(navigator, 'webdriver', {get: () => undefined})\")\n"
   ]
  },
  {
   "cell_type": "code",
   "execution_count": 12,
   "id": "30eac7f3",
   "metadata": {},
   "outputs": [
    {
     "ename": "WebDriverException",
     "evalue": "Message: chrome not reachable\n  (Session info: chrome=105.0.5195.127)\nStacktrace:\nBacktrace:\n\tOrdinal0 [0x00A5DF13+2219795]\n\tOrdinal0 [0x009F2841+1779777]\n\tOrdinal0 [0x00904100+803072]\n\tOrdinal0 [0x008F9BF2+760818]\n\tOrdinal0 [0x008ECD35+707893]\n\tOrdinal0 [0x008F1122+725282]\n\tOrdinal0 [0x008F5699+743065]\n\tOrdinal0 [0x00905610+808464]\n\tOrdinal0 [0x0095E93A+1173818]\n\tOrdinal0 [0x0094E616+1107478]\n\tOrdinal0 [0x00927F89+950153]\n\tOrdinal0 [0x00928F56+954198]\n\tGetHandleVerifier [0x00D52CB2+3040210]\n\tGetHandleVerifier [0x00D42BB4+2974420]\n\tGetHandleVerifier [0x00AF6A0A+565546]\n\tGetHandleVerifier [0x00AF5680+560544]\n\tOrdinal0 [0x009F9A5C+1808988]\n\tOrdinal0 [0x009FE3A8+1827752]\n\tOrdinal0 [0x009FE495+1827989]\n\tOrdinal0 [0x00A080A4+1867940]\n\tBaseThreadInitThunk [0x76A36739+25]\n\tRtlGetFullPathName_UEx [0x77BA8FD2+1218]\n\tRtlGetFullPathName_UEx [0x77BA8F9D+1165]\n",
     "output_type": "error",
     "traceback": [
      "\u001b[1;31m---------------------------------------------------------------------------\u001b[0m",
      "\u001b[1;31mWebDriverException\u001b[0m                        Traceback (most recent call last)",
      "\u001b[1;32m<ipython-input-12-c2ae06bbaa09>\u001b[0m in \u001b[0;36m<module>\u001b[1;34m\u001b[0m\n\u001b[1;32m----> 1\u001b[1;33m \u001b[0mdriver\u001b[0m\u001b[1;33m.\u001b[0m\u001b[0mget\u001b[0m\u001b[1;33m(\u001b[0m\u001b[1;34m'https://jp.louisvuitton.com/jpn-jp/products/carryall-pm-monogram-nvprod3770016v/M46203'\u001b[0m\u001b[1;33m)\u001b[0m\u001b[1;33m\u001b[0m\u001b[1;33m\u001b[0m\u001b[0m\n\u001b[0m\u001b[0;32m      2\u001b[0m \u001b[1;31m#'https://jp.louisvuitton.com/jpn-jp/products/carryall-pm-monogram-nvprod3770016v/M46203'\u001b[0m\u001b[1;33m\u001b[0m\u001b[1;33m\u001b[0m\u001b[1;33m\u001b[0m\u001b[0m\n\u001b[0;32m      3\u001b[0m \u001b[1;33m\u001b[0m\u001b[0m\n\u001b[0;32m      4\u001b[0m \u001b[1;31m#ログインページURLを取得\u001b[0m\u001b[1;33m\u001b[0m\u001b[1;33m\u001b[0m\u001b[1;33m\u001b[0m\u001b[0m\n\u001b[0;32m      5\u001b[0m \u001b[1;31m#login_btn = driver.find_element(By.CSS_SELECTOR,'.lv-product-purchase-button')\u001b[0m\u001b[1;33m\u001b[0m\u001b[1;33m\u001b[0m\u001b[1;33m\u001b[0m\u001b[0m\n",
      "\u001b[1;32m~\\anaconda3\\lib\\site-packages\\selenium\\webdriver\\remote\\webdriver.py\u001b[0m in \u001b[0;36mget\u001b[1;34m(self, url)\u001b[0m\n\u001b[0;32m    445\u001b[0m         \u001b[0mLoads\u001b[0m \u001b[0ma\u001b[0m \u001b[0mweb\u001b[0m \u001b[0mpage\u001b[0m \u001b[1;32min\u001b[0m \u001b[0mthe\u001b[0m \u001b[0mcurrent\u001b[0m \u001b[0mbrowser\u001b[0m \u001b[0msession\u001b[0m\u001b[1;33m.\u001b[0m\u001b[1;33m\u001b[0m\u001b[1;33m\u001b[0m\u001b[0m\n\u001b[0;32m    446\u001b[0m         \"\"\"\n\u001b[1;32m--> 447\u001b[1;33m         \u001b[0mself\u001b[0m\u001b[1;33m.\u001b[0m\u001b[0mexecute\u001b[0m\u001b[1;33m(\u001b[0m\u001b[0mCommand\u001b[0m\u001b[1;33m.\u001b[0m\u001b[0mGET\u001b[0m\u001b[1;33m,\u001b[0m \u001b[1;33m{\u001b[0m\u001b[1;34m'url'\u001b[0m\u001b[1;33m:\u001b[0m \u001b[0murl\u001b[0m\u001b[1;33m}\u001b[0m\u001b[1;33m)\u001b[0m\u001b[1;33m\u001b[0m\u001b[1;33m\u001b[0m\u001b[0m\n\u001b[0m\u001b[0;32m    448\u001b[0m \u001b[1;33m\u001b[0m\u001b[0m\n\u001b[0;32m    449\u001b[0m     \u001b[1;33m@\u001b[0m\u001b[0mproperty\u001b[0m\u001b[1;33m\u001b[0m\u001b[1;33m\u001b[0m\u001b[0m\n",
      "\u001b[1;32m~\\anaconda3\\lib\\site-packages\\selenium\\webdriver\\remote\\webdriver.py\u001b[0m in \u001b[0;36mexecute\u001b[1;34m(self, driver_command, params)\u001b[0m\n\u001b[0;32m    433\u001b[0m         \u001b[0mresponse\u001b[0m \u001b[1;33m=\u001b[0m \u001b[0mself\u001b[0m\u001b[1;33m.\u001b[0m\u001b[0mcommand_executor\u001b[0m\u001b[1;33m.\u001b[0m\u001b[0mexecute\u001b[0m\u001b[1;33m(\u001b[0m\u001b[0mdriver_command\u001b[0m\u001b[1;33m,\u001b[0m \u001b[0mparams\u001b[0m\u001b[1;33m)\u001b[0m\u001b[1;33m\u001b[0m\u001b[1;33m\u001b[0m\u001b[0m\n\u001b[0;32m    434\u001b[0m         \u001b[1;32mif\u001b[0m \u001b[0mresponse\u001b[0m\u001b[1;33m:\u001b[0m\u001b[1;33m\u001b[0m\u001b[1;33m\u001b[0m\u001b[0m\n\u001b[1;32m--> 435\u001b[1;33m             \u001b[0mself\u001b[0m\u001b[1;33m.\u001b[0m\u001b[0merror_handler\u001b[0m\u001b[1;33m.\u001b[0m\u001b[0mcheck_response\u001b[0m\u001b[1;33m(\u001b[0m\u001b[0mresponse\u001b[0m\u001b[1;33m)\u001b[0m\u001b[1;33m\u001b[0m\u001b[1;33m\u001b[0m\u001b[0m\n\u001b[0m\u001b[0;32m    436\u001b[0m             response['value'] = self._unwrap_value(\n\u001b[0;32m    437\u001b[0m                 response.get('value', None))\n",
      "\u001b[1;32m~\\anaconda3\\lib\\site-packages\\selenium\\webdriver\\remote\\errorhandler.py\u001b[0m in \u001b[0;36mcheck_response\u001b[1;34m(self, response)\u001b[0m\n\u001b[0;32m    245\u001b[0m                 \u001b[0malert_text\u001b[0m \u001b[1;33m=\u001b[0m \u001b[0mvalue\u001b[0m\u001b[1;33m[\u001b[0m\u001b[1;34m'alert'\u001b[0m\u001b[1;33m]\u001b[0m\u001b[1;33m.\u001b[0m\u001b[0mget\u001b[0m\u001b[1;33m(\u001b[0m\u001b[1;34m'text'\u001b[0m\u001b[1;33m)\u001b[0m\u001b[1;33m\u001b[0m\u001b[1;33m\u001b[0m\u001b[0m\n\u001b[0;32m    246\u001b[0m             \u001b[1;32mraise\u001b[0m \u001b[0mexception_class\u001b[0m\u001b[1;33m(\u001b[0m\u001b[0mmessage\u001b[0m\u001b[1;33m,\u001b[0m \u001b[0mscreen\u001b[0m\u001b[1;33m,\u001b[0m \u001b[0mstacktrace\u001b[0m\u001b[1;33m,\u001b[0m \u001b[0malert_text\u001b[0m\u001b[1;33m)\u001b[0m  \u001b[1;31m# type: ignore[call-arg]  # mypy is not smart enough here\u001b[0m\u001b[1;33m\u001b[0m\u001b[1;33m\u001b[0m\u001b[0m\n\u001b[1;32m--> 247\u001b[1;33m         \u001b[1;32mraise\u001b[0m \u001b[0mexception_class\u001b[0m\u001b[1;33m(\u001b[0m\u001b[0mmessage\u001b[0m\u001b[1;33m,\u001b[0m \u001b[0mscreen\u001b[0m\u001b[1;33m,\u001b[0m \u001b[0mstacktrace\u001b[0m\u001b[1;33m)\u001b[0m\u001b[1;33m\u001b[0m\u001b[1;33m\u001b[0m\u001b[0m\n\u001b[0m\u001b[0;32m    248\u001b[0m \u001b[1;33m\u001b[0m\u001b[0m\n\u001b[0;32m    249\u001b[0m     \u001b[1;32mdef\u001b[0m \u001b[0m_value_or_default\u001b[0m\u001b[1;33m(\u001b[0m\u001b[0mself\u001b[0m\u001b[1;33m,\u001b[0m \u001b[0mobj\u001b[0m\u001b[1;33m:\u001b[0m \u001b[0mMapping\u001b[0m\u001b[1;33m[\u001b[0m\u001b[0m_KT\u001b[0m\u001b[1;33m,\u001b[0m \u001b[0m_VT\u001b[0m\u001b[1;33m]\u001b[0m\u001b[1;33m,\u001b[0m \u001b[0mkey\u001b[0m\u001b[1;33m:\u001b[0m \u001b[0m_KT\u001b[0m\u001b[1;33m,\u001b[0m \u001b[0mdefault\u001b[0m\u001b[1;33m:\u001b[0m \u001b[0m_VT\u001b[0m\u001b[1;33m)\u001b[0m \u001b[1;33m->\u001b[0m \u001b[0m_VT\u001b[0m\u001b[1;33m:\u001b[0m\u001b[1;33m\u001b[0m\u001b[1;33m\u001b[0m\u001b[0m\n",
      "\u001b[1;31mWebDriverException\u001b[0m: Message: chrome not reachable\n  (Session info: chrome=105.0.5195.127)\nStacktrace:\nBacktrace:\n\tOrdinal0 [0x00A5DF13+2219795]\n\tOrdinal0 [0x009F2841+1779777]\n\tOrdinal0 [0x00904100+803072]\n\tOrdinal0 [0x008F9BF2+760818]\n\tOrdinal0 [0x008ECD35+707893]\n\tOrdinal0 [0x008F1122+725282]\n\tOrdinal0 [0x008F5699+743065]\n\tOrdinal0 [0x00905610+808464]\n\tOrdinal0 [0x0095E93A+1173818]\n\tOrdinal0 [0x0094E616+1107478]\n\tOrdinal0 [0x00927F89+950153]\n\tOrdinal0 [0x00928F56+954198]\n\tGetHandleVerifier [0x00D52CB2+3040210]\n\tGetHandleVerifier [0x00D42BB4+2974420]\n\tGetHandleVerifier [0x00AF6A0A+565546]\n\tGetHandleVerifier [0x00AF5680+560544]\n\tOrdinal0 [0x009F9A5C+1808988]\n\tOrdinal0 [0x009FE3A8+1827752]\n\tOrdinal0 [0x009FE495+1827989]\n\tOrdinal0 [0x00A080A4+1867940]\n\tBaseThreadInitThunk [0x76A36739+25]\n\tRtlGetFullPathName_UEx [0x77BA8FD2+1218]\n\tRtlGetFullPathName_UEx [0x77BA8F9D+1165]\n"
     ]
    }
   ],
   "source": [
    "driver.get('https://secure.louisvuitton.com/jpn-jp/mylv/overview')\n",
    "#'https://jp.louisvuitton.com/jpn-jp/products/carryall-pm-monogram-nvprod3770016v/M46203'\n",
    "\n",
    "#ログインページURLを取得\n",
    "#login_btn = driver.find_element(By.CSS_SELECTOR,'.lv-product-purchase-button')\n",
    "#login_href = login_btn.get_attribute('href')\n",
    "#print(login_href)"
   ]
  },
  {
   "cell_type": "code",
   "execution_count": 6,
   "id": "f9d2be84",
   "metadata": {},
   "outputs": [],
   "source": [
    "#ログインページへ行く\n",
    "#driver.get(login_href)"
   ]
  },
  {
   "cell_type": "code",
   "execution_count": 7,
   "id": "e505fafe",
   "metadata": {},
   "outputs": [],
   "source": [
    "email = \"cymilkga12@gmail.com\"\n",
    "password = \"Mis01aki10ra**\""
   ]
  },
  {
   "cell_type": "code",
   "execution_count": 8,
   "id": "cf21e346",
   "metadata": {},
   "outputs": [],
   "source": [
    "#driver.find_element(By.CSS_SELECTOR,'.lv-product-purchase > button').click()"
   ]
  },
  {
   "cell_type": "code",
   "execution_count": 9,
   "id": "5ce08c4b",
   "metadata": {},
   "outputs": [],
   "source": [
    "#driver.find_element(By.CSS_SELECTOR,'#continue').click()"
   ]
  },
  {
   "cell_type": "code",
   "execution_count": 10,
   "id": "1961337f",
   "metadata": {
    "scrolled": true
   },
   "outputs": [],
   "source": [
    "driver.find_element(By.CSS_SELECTOR,'#loginloginForm').send_keys(email)\n",
    "driver.find_element(By.CSS_SELECTOR,'#passwordloginForm').send_keys(password)\n",
    "driver.find_element(By.CSS_SELECTOR,'#loginSubmit_').click()"
   ]
  },
  {
   "cell_type": "code",
   "execution_count": 11,
   "id": "d48db117",
   "metadata": {},
   "outputs": [
    {
     "ename": "NoSuchElementException",
     "evalue": "Message: no such element: Unable to locate element: {\"method\":\"css selector\",\"selector\":\"a.lv-header-mini-cart__button\"}\n  (Session info: chrome=105.0.5195.127)\nStacktrace:\nBacktrace:\n\tOrdinal0 [0x00A5DF13+2219795]\n\tOrdinal0 [0x009F2841+1779777]\n\tOrdinal0 [0x0090423D+803389]\n\tOrdinal0 [0x00933025+995365]\n\tOrdinal0 [0x009331EB+995819]\n\tOrdinal0 [0x00960F52+1183570]\n\tOrdinal0 [0x0094E844+1108036]\n\tOrdinal0 [0x0095F192+1175954]\n\tOrdinal0 [0x0094E616+1107478]\n\tOrdinal0 [0x00927F89+950153]\n\tOrdinal0 [0x00928F56+954198]\n\tGetHandleVerifier [0x00D52CB2+3040210]\n\tGetHandleVerifier [0x00D42BB4+2974420]\n\tGetHandleVerifier [0x00AF6A0A+565546]\n\tGetHandleVerifier [0x00AF5680+560544]\n\tOrdinal0 [0x009F9A5C+1808988]\n\tOrdinal0 [0x009FE3A8+1827752]\n\tOrdinal0 [0x009FE495+1827989]\n\tOrdinal0 [0x00A080A4+1867940]\n\tBaseThreadInitThunk [0x76A36739+25]\n\tRtlGetFullPathName_UEx [0x77BA8FD2+1218]\n\tRtlGetFullPathName_UEx [0x77BA8F9D+1165]\n",
     "output_type": "error",
     "traceback": [
      "\u001b[1;31m---------------------------------------------------------------------------\u001b[0m",
      "\u001b[1;31mNoSuchElementException\u001b[0m                    Traceback (most recent call last)",
      "\u001b[1;32m<ipython-input-11-d5540f7a8ff3>\u001b[0m in \u001b[0;36m<module>\u001b[1;34m\u001b[0m\n\u001b[0;32m      1\u001b[0m \u001b[0murl\u001b[0m \u001b[1;33m=\u001b[0m \u001b[1;34m\"https://jp.louisvuitton.com/jpn-jp/products/zippy-wallet-vertical-other-leathers-nvprod3750031v/M81573\"\u001b[0m\u001b[1;33m\u001b[0m\u001b[1;33m\u001b[0m\u001b[0m\n\u001b[0;32m      2\u001b[0m \u001b[0mdriver\u001b[0m\u001b[1;33m.\u001b[0m\u001b[0mget\u001b[0m\u001b[1;33m(\u001b[0m\u001b[0murl\u001b[0m\u001b[1;33m)\u001b[0m\u001b[1;33m\u001b[0m\u001b[1;33m\u001b[0m\u001b[0m\n\u001b[1;32m----> 3\u001b[1;33m \u001b[0mdriver\u001b[0m\u001b[1;33m.\u001b[0m\u001b[0mfind_element\u001b[0m\u001b[1;33m(\u001b[0m\u001b[0mBy\u001b[0m\u001b[1;33m.\u001b[0m\u001b[0mCSS_SELECTOR\u001b[0m\u001b[1;33m,\u001b[0m\u001b[1;34m'a.lv-header-mini-cart__button'\u001b[0m\u001b[1;33m)\u001b[0m\u001b[1;33m.\u001b[0m\u001b[0mclick\u001b[0m\u001b[1;33m(\u001b[0m\u001b[1;33m)\u001b[0m\u001b[1;33m\u001b[0m\u001b[1;33m\u001b[0m\u001b[0m\n\u001b[0m",
      "\u001b[1;32m~\\anaconda3\\lib\\site-packages\\selenium\\webdriver\\remote\\webdriver.py\u001b[0m in \u001b[0;36mfind_element\u001b[1;34m(self, by, value)\u001b[0m\n\u001b[0;32m    855\u001b[0m             \u001b[0mvalue\u001b[0m \u001b[1;33m=\u001b[0m \u001b[1;34m'[name=\"%s\"]'\u001b[0m \u001b[1;33m%\u001b[0m \u001b[0mvalue\u001b[0m\u001b[1;33m\u001b[0m\u001b[1;33m\u001b[0m\u001b[0m\n\u001b[0;32m    856\u001b[0m \u001b[1;33m\u001b[0m\u001b[0m\n\u001b[1;32m--> 857\u001b[1;33m         return self.execute(Command.FIND_ELEMENT, {\n\u001b[0m\u001b[0;32m    858\u001b[0m             \u001b[1;34m'using'\u001b[0m\u001b[1;33m:\u001b[0m \u001b[0mby\u001b[0m\u001b[1;33m,\u001b[0m\u001b[1;33m\u001b[0m\u001b[1;33m\u001b[0m\u001b[0m\n\u001b[0;32m    859\u001b[0m             'value': value})['value']\n",
      "\u001b[1;32m~\\anaconda3\\lib\\site-packages\\selenium\\webdriver\\remote\\webdriver.py\u001b[0m in \u001b[0;36mexecute\u001b[1;34m(self, driver_command, params)\u001b[0m\n\u001b[0;32m    433\u001b[0m         \u001b[0mresponse\u001b[0m \u001b[1;33m=\u001b[0m \u001b[0mself\u001b[0m\u001b[1;33m.\u001b[0m\u001b[0mcommand_executor\u001b[0m\u001b[1;33m.\u001b[0m\u001b[0mexecute\u001b[0m\u001b[1;33m(\u001b[0m\u001b[0mdriver_command\u001b[0m\u001b[1;33m,\u001b[0m \u001b[0mparams\u001b[0m\u001b[1;33m)\u001b[0m\u001b[1;33m\u001b[0m\u001b[1;33m\u001b[0m\u001b[0m\n\u001b[0;32m    434\u001b[0m         \u001b[1;32mif\u001b[0m \u001b[0mresponse\u001b[0m\u001b[1;33m:\u001b[0m\u001b[1;33m\u001b[0m\u001b[1;33m\u001b[0m\u001b[0m\n\u001b[1;32m--> 435\u001b[1;33m             \u001b[0mself\u001b[0m\u001b[1;33m.\u001b[0m\u001b[0merror_handler\u001b[0m\u001b[1;33m.\u001b[0m\u001b[0mcheck_response\u001b[0m\u001b[1;33m(\u001b[0m\u001b[0mresponse\u001b[0m\u001b[1;33m)\u001b[0m\u001b[1;33m\u001b[0m\u001b[1;33m\u001b[0m\u001b[0m\n\u001b[0m\u001b[0;32m    436\u001b[0m             response['value'] = self._unwrap_value(\n\u001b[0;32m    437\u001b[0m                 response.get('value', None))\n",
      "\u001b[1;32m~\\anaconda3\\lib\\site-packages\\selenium\\webdriver\\remote\\errorhandler.py\u001b[0m in \u001b[0;36mcheck_response\u001b[1;34m(self, response)\u001b[0m\n\u001b[0;32m    245\u001b[0m                 \u001b[0malert_text\u001b[0m \u001b[1;33m=\u001b[0m \u001b[0mvalue\u001b[0m\u001b[1;33m[\u001b[0m\u001b[1;34m'alert'\u001b[0m\u001b[1;33m]\u001b[0m\u001b[1;33m.\u001b[0m\u001b[0mget\u001b[0m\u001b[1;33m(\u001b[0m\u001b[1;34m'text'\u001b[0m\u001b[1;33m)\u001b[0m\u001b[1;33m\u001b[0m\u001b[1;33m\u001b[0m\u001b[0m\n\u001b[0;32m    246\u001b[0m             \u001b[1;32mraise\u001b[0m \u001b[0mexception_class\u001b[0m\u001b[1;33m(\u001b[0m\u001b[0mmessage\u001b[0m\u001b[1;33m,\u001b[0m \u001b[0mscreen\u001b[0m\u001b[1;33m,\u001b[0m \u001b[0mstacktrace\u001b[0m\u001b[1;33m,\u001b[0m \u001b[0malert_text\u001b[0m\u001b[1;33m)\u001b[0m  \u001b[1;31m# type: ignore[call-arg]  # mypy is not smart enough here\u001b[0m\u001b[1;33m\u001b[0m\u001b[1;33m\u001b[0m\u001b[0m\n\u001b[1;32m--> 247\u001b[1;33m         \u001b[1;32mraise\u001b[0m \u001b[0mexception_class\u001b[0m\u001b[1;33m(\u001b[0m\u001b[0mmessage\u001b[0m\u001b[1;33m,\u001b[0m \u001b[0mscreen\u001b[0m\u001b[1;33m,\u001b[0m \u001b[0mstacktrace\u001b[0m\u001b[1;33m)\u001b[0m\u001b[1;33m\u001b[0m\u001b[1;33m\u001b[0m\u001b[0m\n\u001b[0m\u001b[0;32m    248\u001b[0m \u001b[1;33m\u001b[0m\u001b[0m\n\u001b[0;32m    249\u001b[0m     \u001b[1;32mdef\u001b[0m \u001b[0m_value_or_default\u001b[0m\u001b[1;33m(\u001b[0m\u001b[0mself\u001b[0m\u001b[1;33m,\u001b[0m \u001b[0mobj\u001b[0m\u001b[1;33m:\u001b[0m \u001b[0mMapping\u001b[0m\u001b[1;33m[\u001b[0m\u001b[0m_KT\u001b[0m\u001b[1;33m,\u001b[0m \u001b[0m_VT\u001b[0m\u001b[1;33m]\u001b[0m\u001b[1;33m,\u001b[0m \u001b[0mkey\u001b[0m\u001b[1;33m:\u001b[0m \u001b[0m_KT\u001b[0m\u001b[1;33m,\u001b[0m \u001b[0mdefault\u001b[0m\u001b[1;33m:\u001b[0m \u001b[0m_VT\u001b[0m\u001b[1;33m)\u001b[0m \u001b[1;33m->\u001b[0m \u001b[0m_VT\u001b[0m\u001b[1;33m:\u001b[0m\u001b[1;33m\u001b[0m\u001b[1;33m\u001b[0m\u001b[0m\n",
      "\u001b[1;31mNoSuchElementException\u001b[0m: Message: no such element: Unable to locate element: {\"method\":\"css selector\",\"selector\":\"a.lv-header-mini-cart__button\"}\n  (Session info: chrome=105.0.5195.127)\nStacktrace:\nBacktrace:\n\tOrdinal0 [0x00A5DF13+2219795]\n\tOrdinal0 [0x009F2841+1779777]\n\tOrdinal0 [0x0090423D+803389]\n\tOrdinal0 [0x00933025+995365]\n\tOrdinal0 [0x009331EB+995819]\n\tOrdinal0 [0x00960F52+1183570]\n\tOrdinal0 [0x0094E844+1108036]\n\tOrdinal0 [0x0095F192+1175954]\n\tOrdinal0 [0x0094E616+1107478]\n\tOrdinal0 [0x00927F89+950153]\n\tOrdinal0 [0x00928F56+954198]\n\tGetHandleVerifier [0x00D52CB2+3040210]\n\tGetHandleVerifier [0x00D42BB4+2974420]\n\tGetHandleVerifier [0x00AF6A0A+565546]\n\tGetHandleVerifier [0x00AF5680+560544]\n\tOrdinal0 [0x009F9A5C+1808988]\n\tOrdinal0 [0x009FE3A8+1827752]\n\tOrdinal0 [0x009FE495+1827989]\n\tOrdinal0 [0x00A080A4+1867940]\n\tBaseThreadInitThunk [0x76A36739+25]\n\tRtlGetFullPathName_UEx [0x77BA8FD2+1218]\n\tRtlGetFullPathName_UEx [0x77BA8F9D+1165]\n"
     ]
    }
   ],
   "source": [
    "url = \"https://jp.louisvuitton.com/jpn-jp/products/zippy-wallet-vertical-other-leathers-nvprod3750031v/M81573\"\n",
    "driver.get(url)\n",
    "driver.find_element(By.CSS_SELECTOR,'a.lv-header-mini-cart__button').click()"
   ]
  },
  {
   "cell_type": "code",
   "execution_count": null,
   "id": "1f97c514",
   "metadata": {},
   "outputs": [],
   "source": []
  }
 ],
 "metadata": {
  "kernelspec": {
   "display_name": "Python 3",
   "language": "python",
   "name": "python3"
  },
  "language_info": {
   "codemirror_mode": {
    "name": "ipython",
    "version": 3
   },
   "file_extension": ".py",
   "mimetype": "text/x-python",
   "name": "python",
   "nbconvert_exporter": "python",
   "pygments_lexer": "ipython3",
   "version": "3.8.8"
  }
 },
 "nbformat": 4,
 "nbformat_minor": 5
}
